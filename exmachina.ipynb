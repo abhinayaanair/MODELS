{
 "cells": [
  {
   "cell_type": "code",
   "execution_count": 13,
   "metadata": {},
   "outputs": [],
   "source": [
    "from textblob import TextBlob\n",
    "import random\n",
    "\n",
    "# Define responses based on sentiment categories\n",
    "positive_responses = [\n",
    "    \"That's great to hear!\",\n",
    "    \"I'm glad you feel that way.\",\n",
    "    \"Positive emotions are always good!\"\n",
    "]\n",
    "\n",
    "negative_responses = [\n",
    "    \"I'm sorry to hear that.\",\n",
    "    \"Is there anything I can do to help?\",\n",
    "    \"It's important to talk about these feelings.\"\n",
    "]\n",
    "\n",
    "neutral_responses = [\n",
    "    \"Interesting.\",\n",
    "    \"Tell me more about that.\",\n",
    "    \"I see.\"\n",
    "]\n",
    "\n",
    "# Function to analyze emotion using TextBlob sentiment analysis\n",
    "def analyze_emotion(text):\n",
    "    blob = TextBlob(text)\n",
    "    sentiment = blob.sentiment.polarity\n",
    "    if sentiment > 0.2:\n",
    "        return \"Positive\"\n",
    "    elif sentiment < -0.2:\n",
    "        return \"Negative\"\n",
    "    else:\n",
    "        return \"Neutral\"\n"
   ]
  },
  {
   "cell_type": "code",
   "execution_count": 15,
   "metadata": {},
   "outputs": [
    {
     "name": "stdout",
     "output_type": "stream",
     "text": [
      "Human: I didn't score well in maths exam.\n",
      "AI: I see.\n",
      "\n",
      "Human: I'm feeling a bit anxious today.\n",
      "AI: Is there anything I can do to help?\n",
      "\n",
      "Human: I had a great day at work!\n",
      "AI: That's great to hear!\n",
      "\n",
      "Human: Sometimes life feels overwhelming.\n",
      "AI: Positive emotions are always good!\n",
      "\n",
      "Human: What do you think about the weather?\n",
      "AI: Tell me more about that.\n",
      "\n"
     ]
    }
   ],
   "source": [
    "# Example conversation\n",
    "conversation = [\n",
    "    \"I didn't score well in maths exam.\",\n",
    "    \"I'm feeling a bit anxious today.\",\n",
    "    \"I had a great day at work!\",\n",
    "    \"Sometimes life feels overwhelming.\",\n",
    "    \"What do you think about the weather?\"\n",
    "]\n",
    "\n",
    "# Simulate conversation\n",
    "for utterance in conversation:\n",
    "    emotion = analyze_emotion(utterance)\n",
    "    if emotion == \"Positive\":\n",
    "        response = random.choice(positive_responses)\n",
    "    elif emotion == \"Negative\":\n",
    "        response = random.choice(negative_responses)\n",
    "    else:\n",
    "        response = random.choice(neutral_responses)\n",
    "    \n",
    "    print(f\"Human: {utterance}\")\n",
    "    print(f\"AI: {response}\\n\")\n"
   ]
  },
  {
   "cell_type": "code",
   "execution_count": null,
   "metadata": {},
   "outputs": [],
   "source": []
  },
  {
   "cell_type": "code",
   "execution_count": null,
   "metadata": {},
   "outputs": [],
   "source": []
  }
 ],
 "metadata": {
  "kernelspec": {
   "display_name": "Python 3",
   "language": "python",
   "name": "python3"
  },
  "language_info": {
   "codemirror_mode": {
    "name": "ipython",
    "version": 3
   },
   "file_extension": ".py",
   "mimetype": "text/x-python",
   "name": "python",
   "nbconvert_exporter": "python",
   "pygments_lexer": "ipython3",
   "version": "3.12.2"
  }
 },
 "nbformat": 4,
 "nbformat_minor": 2
}
